{
 "cells": [
  {
   "cell_type": "markdown",
   "metadata": {},
   "source": [
    "# Softmax exercise\n",
    "\n",
    "*Complete and hand in this completed worksheet (including its outputs and any supporting code outside of the worksheet) with your assignment submission. For more details see the [assignments page](http://vision.stanford.edu/teaching/cs231n/assignments.html) on the course website.*\n",
    "\n",
    "This exercise is analogous to the SVM exercise. You will:\n",
    "\n",
    "- implement a fully-vectorized **loss function** for the Softmax classifier\n",
    "- implement the fully-vectorized expression for its **analytic gradient**\n",
    "- **check your implementation** with numerical gradient\n",
    "- use a validation set to **tune the learning rate and regularization** strength\n",
    "- **optimize** the loss function with **SGD**\n",
    "- **visualize** the final learned weights\n"
   ]
  },
  {
   "cell_type": "code",
   "execution_count": 1,
   "metadata": {},
   "outputs": [],
   "source": [
    "import random\n",
    "import numpy as np\n",
    "from cs231n.data_utils import load_CIFAR10\n",
    "import matplotlib.pyplot as plt\n",
    "\n",
    "from __future__ import print_function\n",
    "\n",
    "%matplotlib inline\n",
    "plt.rcParams['figure.figsize'] = (10.0, 8.0) # set default size of plots\n",
    "plt.rcParams['image.interpolation'] = 'nearest'\n",
    "plt.rcParams['image.cmap'] = 'gray'\n",
    "\n",
    "# for auto-reloading extenrnal modules\n",
    "# see http://stackoverflow.com/questions/1907993/autoreload-of-modules-in-ipython\n",
    "%load_ext autoreload\n",
    "%autoreload 2"
   ]
  },
  {
   "cell_type": "code",
   "execution_count": 2,
   "metadata": {},
   "outputs": [
    {
     "name": "stdout",
     "output_type": "stream",
     "text": [
      "Train data shape:  (49000, 3073)\n",
      "Train labels shape:  (49000,)\n",
      "Validation data shape:  (1000, 3073)\n",
      "Validation labels shape:  (1000,)\n",
      "Test data shape:  (1000, 3073)\n",
      "Test labels shape:  (1000,)\n",
      "dev data shape:  (500, 3073)\n",
      "dev labels shape:  (500,)\n"
     ]
    }
   ],
   "source": [
    "def get_CIFAR10_data(num_training=49000, num_validation=1000, num_test=1000, num_dev=500):\n",
    "    \"\"\"\n",
    "    Load the CIFAR-10 dataset from disk and perform preprocessing to prepare\n",
    "    it for the linear classifier. These are the same steps as we used for the\n",
    "    SVM, but condensed to a single function.  \n",
    "    \"\"\"\n",
    "    # Load the raw CIFAR-10 data\n",
    "    cifar10_dir = 'cs231n/datasets/cifar-10-batches-py'\n",
    "    X_train, y_train, X_test, y_test = load_CIFAR10(cifar10_dir)\n",
    "    \n",
    "    # subsample the data\n",
    "    mask = list(range(num_training, num_training + num_validation))\n",
    "    X_val = X_train[mask]\n",
    "    y_val = y_train[mask]\n",
    "    mask = list(range(num_training))\n",
    "    X_train = X_train[mask]\n",
    "    y_train = y_train[mask]\n",
    "    mask = list(range(num_test))\n",
    "    X_test = X_test[mask]\n",
    "    y_test = y_test[mask]\n",
    "    mask = np.random.choice(num_training, num_dev, replace=False)\n",
    "    X_dev = X_train[mask]\n",
    "    y_dev = y_train[mask]\n",
    "    \n",
    "    # Preprocessing: reshape the image data into rows\n",
    "    X_train = np.reshape(X_train, (X_train.shape[0], -1))\n",
    "    X_val = np.reshape(X_val, (X_val.shape[0], -1))\n",
    "    X_test = np.reshape(X_test, (X_test.shape[0], -1))\n",
    "    X_dev = np.reshape(X_dev, (X_dev.shape[0], -1))\n",
    "    \n",
    "    # Normalize the data: subtract the mean image\n",
    "    mean_image = np.mean(X_train, axis = 0)\n",
    "    X_train -= mean_image\n",
    "    X_val -= mean_image\n",
    "    X_test -= mean_image\n",
    "    X_dev -= mean_image\n",
    "    \n",
    "    # add bias dimension and transform into columns\n",
    "    X_train = np.hstack([X_train, np.ones((X_train.shape[0], 1))])\n",
    "    X_val = np.hstack([X_val, np.ones((X_val.shape[0], 1))])\n",
    "    X_test = np.hstack([X_test, np.ones((X_test.shape[0], 1))])\n",
    "    X_dev = np.hstack([X_dev, np.ones((X_dev.shape[0], 1))])\n",
    "    \n",
    "    return X_train, y_train, X_val, y_val, X_test, y_test, X_dev, y_dev\n",
    "\n",
    "\n",
    "# Invoke the above function to get our data.\n",
    "X_train, y_train, X_val, y_val, X_test, y_test, X_dev, y_dev = get_CIFAR10_data()\n",
    "print('Train data shape: ', X_train.shape)\n",
    "print('Train labels shape: ', y_train.shape)\n",
    "print('Validation data shape: ', X_val.shape)\n",
    "print('Validation labels shape: ', y_val.shape)\n",
    "print('Test data shape: ', X_test.shape)\n",
    "print('Test labels shape: ', y_test.shape)\n",
    "print('dev data shape: ', X_dev.shape)\n",
    "print('dev labels shape: ', y_dev.shape)"
   ]
  },
  {
   "cell_type": "markdown",
   "metadata": {},
   "source": [
    "## Softmax Classifier\n",
    "\n",
    "Your code for this section will all be written inside **cs231n/classifiers/softmax.py**. \n"
   ]
  },
  {
   "cell_type": "code",
   "execution_count": 23,
   "metadata": {},
   "outputs": [
    {
     "name": "stdout",
     "output_type": "stream",
     "text": [
      "loss: 2.347392\n",
      "sanity check: 2.302585\n"
     ]
    }
   ],
   "source": [
    "# First implement the naive softmax loss function with nested loops.\n",
    "# Open the file cs231n/classifiers/softmax.py and implement the\n",
    "# softmax_loss_naive function.\n",
    "\n",
    "from cs231n.classifiers.softmax import softmax_loss_naive\n",
    "import time\n",
    "\n",
    "# Generate a random softmax weight matrix and use it to compute the loss.\n",
    "W = np.random.randn(3073, 10) * 0.0001\n",
    "loss, grad = softmax_loss_naive(W, X_dev, y_dev, 0.0)\n",
    "\n",
    "# As a rough sanity check, our loss should be something close to -log(0.1).\n",
    "print('loss: %f' % loss)\n",
    "print('sanity check: %f' % (-np.log(0.1)))"
   ]
  },
  {
   "cell_type": "markdown",
   "metadata": {},
   "source": [
    "## Inline Question 1:\n",
    "Why do we expect our loss to be close to -log(0.1)? Explain briefly.**\n",
    "\n",
    "**Your answer:** *Fill this in*\n"
   ]
  },
  {
   "cell_type": "code",
   "execution_count": 26,
   "metadata": {},
   "outputs": [
    {
     "name": "stdout",
     "output_type": "stream",
     "text": [
      "numerical: 3.432077 analytic: 3.432077, relative error: 1.016067e-08\n",
      "numerical: 0.057086 analytic: 0.057086, relative error: 8.391657e-07\n",
      "numerical: 0.066490 analytic: 0.066490, relative error: 5.683150e-08\n",
      "numerical: -1.634790 analytic: -1.634790, relative error: 5.297988e-08\n",
      "numerical: 0.668093 analytic: 0.668093, relative error: 8.238681e-09\n",
      "numerical: 1.586274 analytic: 1.586273, relative error: 1.085011e-09\n",
      "numerical: 1.822743 analytic: 1.822743, relative error: 1.382528e-08\n",
      "numerical: 1.144846 analytic: 1.144846, relative error: 3.323637e-08\n",
      "numerical: -1.507207 analytic: -1.507207, relative error: 4.190955e-08\n",
      "numerical: -0.744565 analytic: -0.744565, relative error: 3.655671e-08\n",
      "numerical: -4.992873 analytic: -4.992873, relative error: 1.018891e-10\n",
      "numerical: 3.344307 analytic: 3.344307, relative error: 2.354955e-08\n",
      "numerical: -1.686256 analytic: -1.686256, relative error: 5.932158e-08\n",
      "numerical: -1.865560 analytic: -1.865560, relative error: 2.256708e-08\n",
      "numerical: 3.288136 analytic: 3.288136, relative error: 1.625108e-08\n",
      "numerical: -2.666337 analytic: -2.666337, relative error: 2.188064e-09\n",
      "numerical: 0.225848 analytic: 0.225848, relative error: 1.734485e-08\n",
      "numerical: -0.108352 analytic: -0.108352, relative error: 2.591360e-07\n",
      "numerical: -1.966562 analytic: -1.966562, relative error: 3.426842e-08\n",
      "numerical: 0.509396 analytic: 0.509396, relative error: 7.173490e-08\n"
     ]
    }
   ],
   "source": [
    "# Complete the implementation of softmax_loss_naive and implement a (naive)\n",
    "# version of the gradient that uses nested loops.\n",
    "loss, grad = softmax_loss_naive(W, X_dev, y_dev, 0.0)\n",
    "\n",
    "# As we did for the SVM, use numeric gradient checking as a debugging tool.\n",
    "# The numeric gradient should be close to the analytic gradient.\n",
    "from cs231n.gradient_check import grad_check_sparse\n",
    "f = lambda w: softmax_loss_naive(w, X_dev, y_dev, 0.0)[0]\n",
    "grad_numerical = grad_check_sparse(f, W, grad, 10)\n",
    "\n",
    "# similar to SVM case, do another gradient check with regularization\n",
    "loss, grad = softmax_loss_naive(W, X_dev, y_dev, 5e1)\n",
    "f = lambda w: softmax_loss_naive(w, X_dev, y_dev, 5e1)[0]\n",
    "grad_numerical = grad_check_sparse(f, W, grad, 10)"
   ]
  },
  {
   "cell_type": "code",
   "execution_count": 27,
   "metadata": {},
   "outputs": [
    {
     "name": "stdout",
     "output_type": "stream",
     "text": [
      "naive loss: 2.347392e+00 computed in 0.044298s\n",
      "vectorized loss: 2.347392e+00 computed in 0.007561s\n",
      "Loss difference: 0.000000\n",
      "Gradient difference: 0.000000\n"
     ]
    }
   ],
   "source": [
    "# Now that we have a naive implementation of the softmax loss function and its gradient,\n",
    "# implement a vectorized version in softmax_loss_vectorized.\n",
    "# The two versions should compute the same results, but the vectorized version should be\n",
    "# much faster.\n",
    "tic = time.time()\n",
    "loss_naive, grad_naive = softmax_loss_naive(W, X_dev, y_dev, 0.000005)\n",
    "toc = time.time()\n",
    "print('naive loss: %e computed in %fs' % (loss_naive, toc - tic))\n",
    "\n",
    "from cs231n.classifiers.softmax import softmax_loss_vectorized\n",
    "tic = time.time()\n",
    "loss_vectorized, grad_vectorized = softmax_loss_vectorized(W, X_dev, y_dev, 0.000005)\n",
    "toc = time.time()\n",
    "print('vectorized loss: %e computed in %fs' % (loss_vectorized, toc - tic))\n",
    "\n",
    "# As we did for the SVM, we use the Frobenius norm to compare the two versions\n",
    "# of the gradient.\n",
    "grad_difference = np.linalg.norm(grad_naive - grad_vectorized, ord='fro')\n",
    "print('Loss difference: %f' % np.abs(loss_naive - loss_vectorized))\n",
    "print('Gradient difference: %f' % grad_difference)"
   ]
  },
  {
   "cell_type": "code",
   "execution_count": 28,
   "metadata": {},
   "outputs": [
    {
     "name": "stdout",
     "output_type": "stream",
     "text": [
      "iteration 0 / 2000: loss 769.906708\n",
      "iteration 100 / 2000: loss 282.936921\n",
      "iteration 200 / 2000: loss 104.789343\n",
      "iteration 300 / 2000: loss 39.690348\n",
      "iteration 400 / 2000: loss 15.854220\n",
      "iteration 500 / 2000: loss 7.095603\n",
      "iteration 600 / 2000: loss 3.935483\n",
      "iteration 700 / 2000: loss 2.778240\n",
      "iteration 800 / 2000: loss 2.377514\n",
      "iteration 900 / 2000: loss 2.157292\n",
      "iteration 1000 / 2000: loss 2.097722\n",
      "iteration 1100 / 2000: loss 2.143073\n",
      "iteration 1200 / 2000: loss 2.119601\n",
      "iteration 1300 / 2000: loss 2.073009\n",
      "iteration 1400 / 2000: loss 2.090855\n",
      "iteration 1500 / 2000: loss 2.093468\n",
      "iteration 1600 / 2000: loss 2.107907\n",
      "iteration 1700 / 2000: loss 2.102387\n",
      "iteration 1800 / 2000: loss 2.087970\n",
      "iteration 1900 / 2000: loss 2.076183\n",
      "iteration 0 / 2000: loss 1528.889855\n",
      "iteration 100 / 2000: loss 206.008254\n",
      "iteration 200 / 2000: loss 29.374748\n",
      "iteration 300 / 2000: loss 5.785590\n",
      "iteration 400 / 2000: loss 2.616384\n",
      "iteration 500 / 2000: loss 2.202025\n",
      "iteration 600 / 2000: loss 2.145301\n",
      "iteration 700 / 2000: loss 2.161222\n",
      "iteration 800 / 2000: loss 2.130796\n",
      "iteration 900 / 2000: loss 2.172141\n",
      "iteration 1000 / 2000: loss 2.162009\n",
      "iteration 1100 / 2000: loss 2.163632\n",
      "iteration 1200 / 2000: loss 2.119505\n",
      "iteration 1300 / 2000: loss 2.124049\n",
      "iteration 1400 / 2000: loss 2.121713\n",
      "iteration 1500 / 2000: loss 2.118743\n",
      "iteration 1600 / 2000: loss 2.173074\n",
      "iteration 1700 / 2000: loss 2.160920\n",
      "iteration 1800 / 2000: loss 2.147470\n",
      "iteration 1900 / 2000: loss 2.170224\n",
      "iteration 0 / 2000: loss 776.604955\n",
      "iteration 100 / 2000: loss 6.921663\n",
      "iteration 200 / 2000: loss 2.100217\n",
      "iteration 300 / 2000: loss 2.109913\n",
      "iteration 400 / 2000: loss 2.086577\n",
      "iteration 500 / 2000: loss 2.134736\n",
      "iteration 600 / 2000: loss 2.121086\n",
      "iteration 700 / 2000: loss 2.086337\n",
      "iteration 800 / 2000: loss 2.078922\n",
      "iteration 900 / 2000: loss 2.080947\n",
      "iteration 1000 / 2000: loss 2.092643\n",
      "iteration 1100 / 2000: loss 2.057114\n",
      "iteration 1200 / 2000: loss 2.034694\n",
      "iteration 1300 / 2000: loss 2.110687\n",
      "iteration 1400 / 2000: loss 2.103176\n",
      "iteration 1500 / 2000: loss 2.049674\n",
      "iteration 1600 / 2000: loss 2.104202\n",
      "iteration 1700 / 2000: loss 2.086176\n",
      "iteration 1800 / 2000: loss 2.126182\n",
      "iteration 1900 / 2000: loss 2.100455\n",
      "iteration 0 / 2000: loss 1535.183043\n",
      "iteration 100 / 2000: loss 2.178545\n",
      "iteration 200 / 2000: loss 2.140162\n",
      "iteration 300 / 2000: loss 2.141100\n",
      "iteration 400 / 2000: loss 2.105608\n",
      "iteration 500 / 2000: loss 2.171048\n",
      "iteration 600 / 2000: loss 2.110256\n",
      "iteration 700 / 2000: loss 2.115350\n",
      "iteration 800 / 2000: loss 2.107115\n",
      "iteration 900 / 2000: loss 2.105613\n",
      "iteration 1000 / 2000: loss 2.152840\n",
      "iteration 1100 / 2000: loss 2.166072\n",
      "iteration 1200 / 2000: loss 2.121148\n",
      "iteration 1300 / 2000: loss 2.137789\n",
      "iteration 1400 / 2000: loss 2.168932\n",
      "iteration 1500 / 2000: loss 2.184954\n",
      "iteration 1600 / 2000: loss 2.130495\n",
      "iteration 1700 / 2000: loss 2.155346\n",
      "iteration 1800 / 2000: loss 2.157294\n",
      "iteration 1900 / 2000: loss 2.121140\n",
      "lr 1.000000e-07 reg 2.500000e+04 train accuracy: 0.326429 val accuracy: 0.342000\n",
      "lr 1.000000e-07 reg 5.000000e+04 train accuracy: 0.305714 val accuracy: 0.323000\n",
      "lr 5.000000e-07 reg 2.500000e+04 train accuracy: 0.323224 val accuracy: 0.336000\n",
      "lr 5.000000e-07 reg 5.000000e+04 train accuracy: 0.301469 val accuracy: 0.311000\n",
      "best validation accuracy achieved during cross-validation: 0.342000\n"
     ]
    }
   ],
   "source": [
    "# Use the validation set to tune hyperparameters (regularization strength and\n",
    "# learning rate). You should experiment with different ranges for the learning\n",
    "# rates and regularization strengths; if you are careful you should be able to\n",
    "# get a classification accuracy of over 0.35 on the validation set.\n",
    "from cs231n.classifiers import Softmax\n",
    "results = {}\n",
    "best_val = -1\n",
    "best_softmax = None\n",
    "learning_rates = [1e-7, 5e-7]\n",
    "regularization_strengths = [2.5e4, 5e4]\n",
    "\n",
    "################################################################################\n",
    "# TODO:                                                                        #\n",
    "# Use the validation set to set the learning rate and regularization strength. #\n",
    "# This should be identical to the validation that you did for the SVM; save    #\n",
    "# the best trained softmax classifer in best_softmax.                          #\n",
    "################################################################################\n",
    "for learning_rate in learning_rates:\n",
    "    for regularization_strength in regularization_strengths:\n",
    "        softmax =Softmax()\n",
    "        softmax.train(X_train, y_train, learning_rate=learning_rate, reg=regularization_strength, num_iters=2000, verbose=True)\n",
    "        y_train_pred = softmax.predict(X_train)\n",
    "        y_val_pred = softmax.predict(X_val)\n",
    "        training_accuracy = np.mean(y_train == y_train_pred)\n",
    "        validation_accuracy = np.mean(y_val == y_val_pred)\n",
    "        results[(learning_rate, regularization_strength)] = (training_accuracy, validation_accuracy)\n",
    "        if validation_accuracy > best_val:\n",
    "            best_val = validation_accuracy\n",
    "            best_softmax = softmax\n",
    "################################################################################\n",
    "#                              END OF YOUR CODE                                #\n",
    "################################################################################\n",
    "    \n",
    "# Print out results.\n",
    "for lr, reg in sorted(results):\n",
    "    train_accuracy, val_accuracy = results[(lr, reg)]\n",
    "    print('lr %e reg %e train accuracy: %f val accuracy: %f' % (\n",
    "                lr, reg, train_accuracy, val_accuracy))\n",
    "    \n",
    "print('best validation accuracy achieved during cross-validation: %f' % best_val)"
   ]
  },
  {
   "cell_type": "code",
   "execution_count": 29,
   "metadata": {},
   "outputs": [
    {
     "name": "stdout",
     "output_type": "stream",
     "text": [
      "softmax on raw pixels final test set accuracy: 0.337000\n"
     ]
    }
   ],
   "source": [
    "# evaluate on test set\n",
    "# Evaluate the best softmax on test set\n",
    "y_test_pred = best_softmax.predict(X_test)\n",
    "test_accuracy = np.mean(y_test == y_test_pred)\n",
    "print('softmax on raw pixels final test set accuracy: %f' % (test_accuracy, ))"
   ]
  },
  {
   "cell_type": "code",
   "execution_count": 30,
   "metadata": {},
   "outputs": [
    {
     "data": {
      "image/png": "[encoded data removed]",
      "text/plain": [
       "<matplotlib.figure.Figure at 0x7f52ad9c1f50>"
      ]
     },
     "metadata": {},
     "output_type": "display_data"
    }
   ],
   "source": [
    "# Visualize the learned weights for each class\n",
    "w = best_softmax.W[:-1,:] # strip out the bias\n",
    "w = w.reshape(32, 32, 3, 10)\n",
    "\n",
    "w_min, w_max = np.min(w), np.max(w)\n",
    "\n",
    "classes = ['plane', 'car', 'bird', 'cat', 'deer', 'dog', 'frog', 'horse', 'ship', 'truck']\n",
    "for i in range(10):\n",
    "    plt.subplot(2, 5, i + 1)\n",
    "    \n",
    "    # Rescale the weights to be between 0 and 255\n",
    "    wimg = 255.0 * (w[:, :, :, i].squeeze() - w_min) / (w_max - w_min)\n",
    "    plt.imshow(wimg.astype('uint8'))\n",
    "    plt.axis('off')\n",
    "    plt.title(classes[i])"
   ]
  },
  {
   "cell_type": "code",
   "execution_count": null,
   "metadata": {},
   "outputs": [],
   "source": []
  }
 ],
 "metadata": {
  "kernelspec": {
   "display_name": "Python 2",
   "language": "python",
   "name": "python2"
  },
  "language_info": {
   "codemirror_mode": {
    "name": "ipython",
    "version": 2
   },
   "file_extension": ".py",
   "mimetype": "text/x-python",
   "name": "python",
   "nbconvert_exporter": "python",
   "pygments_lexer": "ipython2",
   "version": "2.7.12"
  }
 },
 "nbformat": 4,
 "nbformat_minor": 1
}
